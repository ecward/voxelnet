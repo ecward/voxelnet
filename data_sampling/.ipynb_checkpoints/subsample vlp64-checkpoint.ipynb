{
 "cells": [
  {
   "cell_type": "code",
   "execution_count": 1,
   "metadata": {
    "collapsed": false
   },
   "outputs": [
    {
     "name": "stdout",
     "output_type": "stream",
     "text": [
      "Using matplotlib backend: Qt4Agg\n",
      "Populating the interactive namespace from numpy and matplotlib\n"
     ]
    }
   ],
   "source": [
    "%pylab"
   ]
  },
  {
   "cell_type": "code",
   "execution_count": 132,
   "metadata": {
    "collapsed": true
   },
   "outputs": [],
   "source": [
    "pc_file = \\\n",
    "'/media/erik/3tb/KITTY_DATA/3d_object_data/training/velodyne/006012.bin'\n",
    "#006001.bin tested by hand...\n",
    "#006002.bin almost the same (probably because it comes straight after)\n",
    "points = np.fromfile(pc_file, dtype=np.float32).reshape(-1, 4)\n"
   ]
  },
  {
   "cell_type": "code",
   "execution_count": 128,
   "metadata": {
    "collapsed": false
   },
   "outputs": [
    {
     "name": "stdout",
     "output_type": "stream",
     "text": [
      "85.851814\n",
      "113.734566\n",
      "-179.99394\n",
      "180.0\n",
      "\n"
     ]
    }
   ],
   "source": [
    "r = np.linalg.norm(points[:,:3],axis=1)\n",
    "th = np.arccos(points[:,2]/r)*180.0/np.pi\n",
    "phi = np.arctan2(points[:,1],points[:,0])*180.0/np.pi\n"
   ]
  },
  {
   "cell_type": "code",
   "execution_count": 168,
   "metadata": {
    "collapsed": false
   },
   "outputs": [
    {
     "name": "stdout",
     "output_type": "stream",
     "text": [
      "-24.710354\n",
      "4.1218123\n",
      "65\n",
      "30759  /  123640  =  0.24877871239081203\n"
     ]
    }
   ],
   "source": [
    "#Use atan2 instead!\n",
    "side_xy = np.linalg.norm(points[:,:2],axis=1)\n",
    "side_z  = points[:,2]\n",
    "#th_deg = np.arctan(side_z/side_xy)*180/np.pi\n",
    "th_deg = np.arctan2(side_z,side_xy)*180/np.pi\n",
    "#hist(th_deg,bins=500)\n",
    "print np.min(th_deg)\n",
    "print np.max(th_deg) \n",
    "#From velodyne datasheet: +2 deg up to -24.8 deg down\n",
    "#-23.7 seems pretty consistent between different pointclouds\n",
    "#But the max positive angle seems larger... about 3.5-4.5\n",
    "\n",
    "#Split into 64 buckets from  <-23.7 to >4\n",
    "buckets = [-np.inf]+list(np.linspace(-23.7,3.1,65)[1:-1])+[np.inf]\n",
    "print len(buckets)\n",
    "\n",
    "points_idx = np.digitize(th_deg,buckets)\n",
    "#hist(points_idx,bins=200)\n",
    "#print \"\"\n",
    "\n",
    "#take data with every forth bucket index?\n",
    "#VLP-16 has -15 to +15...\n",
    "ok_idx = set(list(np.arange(1,65,4)))\n",
    "ok_p = np.array([p_i in ok_idx for p_i in points_idx])\n",
    "print np.sum(ok_p[ok_p]),\" / \",np.size(points,0),\" = \",\\\n",
    "    np.sum(ok_p[ok_p])/(1.0*np.size(points,0))\n",
    "points_sparse = points[ok_p,:]\n"
   ]
  },
  {
   "cell_type": "code",
   "execution_count": 166,
   "metadata": {
    "collapsed": false
   },
   "outputs": [
    {
     "name": "stdout",
     "output_type": "stream",
     "text": [
      "179.99191\n",
      "-179.99252\n",
      "-180.0 -179.81990995497748\n",
      "(48, 4)\n"
     ]
    }
   ],
   "source": [
    "#above doesn't really work that well...\n",
    "#But I can't really think of another good way of doing it..."
   ]
  },
  {
   "cell_type": "code",
   "execution_count": 116,
   "metadata": {
    "collapsed": false
   },
   "outputs": [
    {
     "name": "stdout",
     "output_type": "stream",
     "text": [
      "16\n",
      "[ 1  5  9 13 17 21 25 29 33 37 41 45 49 53 57 61]\n"
     ]
    }
   ],
   "source": [
    "print len(ok_idx)\n",
    "print sort(list(ok_idx))"
   ]
  },
  {
   "cell_type": "code",
   "execution_count": 138,
   "metadata": {
    "collapsed": false
   },
   "outputs": [],
   "source": [
    "#To plot this, let's use ros and rviz (pointcloud2)\n",
    "import rospy\n",
    "from sensor_msgs.msg import PointCloud2, PointField\n",
    "import std_msgs.msg\n",
    "import sensor_msgs.point_cloud2 as pcl2\n",
    "\n",
    "rospy.init_node('pcl2_pub')\n",
    "velo64_pub = rospy.Publisher(\"/velo64\", PointCloud2,queue_size=10)\n",
    "velo16_pub = rospy.Publisher(\"/velo16\", PointCloud2,queue_size=10)\n",
    "\n",
    "#construct PointCloud2 data\n",
    "#pc = PointCloud2.\n",
    "#help(PointField)\n",
    "#help(pcl2.create_cloud)"
   ]
  },
  {
   "cell_type": "code",
   "execution_count": 155,
   "metadata": {
    "collapsed": true
   },
   "outputs": [],
   "source": [
    "header = std_msgs.msg.Header()\n",
    "header.stamp = rospy.Time.now()\n",
    "header.frame_id = \"velodyne\"\n",
    "pc64 = pcl2.create_cloud_xyz32(header,points[:,:3])\n",
    "pc16 = pcl2.create_cloud_xyz32(header,points_sparse[:,:3])\n",
    "\n",
    "velo64_pub.publish(pc64)\n",
    "velo16_pub.publish(pc16)"
   ]
  },
  {
   "cell_type": "code",
   "execution_count": 66,
   "metadata": {
    "collapsed": false
   },
   "outputs": [
    {
     "data": {
      "text/plain": [
       "array([ 0,  4,  8, 12, 16, 20, 24, 28, 32, 36, 40, 44, 48, 52, 56, 60])"
      ]
     },
     "execution_count": 66,
     "metadata": {},
     "output_type": "execute_result"
    }
   ],
   "source": [
    "np.arange(0,64,4)"
   ]
  },
  {
   "cell_type": "code",
   "execution_count": 19,
   "metadata": {
    "collapsed": false
   },
   "outputs": [
    {
     "name": "stdout",
     "output_type": "stream",
     "text": [
      "(126177, 3)\n",
      "(126177,)\n",
      "\n"
     ]
    }
   ],
   "source": [
    "#should be able to get the angle of each point by \n",
    "#first projecting the vector v velo->pnt on x-y plane of velodyne\n",
    "\n",
    "#The angle we want is the angle between the vector and (0,0,1)?\n",
    "#this doesn't work...\n",
    "e3 = np.array([0,0,1])\n",
    "\n",
    "#Get vector lengths for all v_i: (0,0,0)->(x,y,z)\n",
    "\n",
    "print np.shape(points[:,:3])\n",
    "v_len = np.linalg.norm(points[:,:3],axis=1)\n",
    "print np.shape(v_len)\n",
    "\n",
    "th = np.arccos(np.dot(points[:,:3],e3)/v_len)\n",
    "\n",
    "hist(th,bins=500)\n",
    "print \"\""
   ]
  }
 ],
 "metadata": {
  "kernelspec": {
   "display_name": "Python 2",
   "language": "python",
   "name": "python2"
  },
  "language_info": {
   "codemirror_mode": {
    "name": "ipython",
    "version": 2
   },
   "file_extension": ".py",
   "mimetype": "text/x-python",
   "name": "python",
   "nbconvert_exporter": "python",
   "pygments_lexer": "ipython2",
   "version": "2.7.12"
  }
 },
 "nbformat": 4,
 "nbformat_minor": 0
}
