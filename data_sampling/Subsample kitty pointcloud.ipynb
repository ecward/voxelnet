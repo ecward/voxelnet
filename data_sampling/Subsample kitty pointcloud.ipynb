{
 "cells": [
  {
   "cell_type": "markdown",
   "metadata": {},
   "source": [
    "Can we \"fake\" a VLP16 from the Kitty data (HDL64)?"
   ]
  },
  {
   "cell_type": "code",
   "execution_count": 1,
   "metadata": {
    "collapsed": false
   },
   "outputs": [
    {
     "name": "stdout",
     "output_type": "stream",
     "text": [
      "Using matplotlib backend: Qt4Agg\n",
      "Populating the interactive namespace from numpy and matplotlib\n"
     ]
    }
   ],
   "source": [
    "%pylab"
   ]
  },
  {
   "cell_type": "code",
   "execution_count": 241,
   "metadata": {
    "collapsed": false
   },
   "outputs": [],
   "source": [
    "pc_file = \\\n",
    "'/media/erik/3tb/KITTY_DATA/3d_object_data/training/velodyne/000102.bin'\n",
    "#006001.bin tested by hand...\n",
    "#006002.bin almost the same (probably because it comes straight after)\n",
    "points = np.fromfile(pc_file, dtype=np.float32).reshape(-1, 4)\n"
   ]
  },
  {
   "cell_type": "code",
   "execution_count": 239,
   "metadata": {
    "collapsed": false
   },
   "outputs": [],
   "source": [
    "n_pnts = []\n",
    "for i in range(5000,7400):\n",
    "    pc_file = \\\n",
    "    '/media/erik/3tb/KITTY_DATA/3d_object_data/training/velodyne/00'\\\n",
    "    +str(i)+'.bin'\n",
    "\n",
    "    points_tmp = np.fromfile(pc_file, dtype=np.float32).reshape(-1, 4)\n",
    "    n_pnts.append(np.size(points_tmp,0))"
   ]
  },
  {
   "cell_type": "code",
   "execution_count": 240,
   "metadata": {
    "collapsed": false
   },
   "outputs": [
    {
     "name": "stdout",
     "output_type": "stream",
     "text": [
      "85404\n",
      "128398\n"
     ]
    }
   ],
   "source": [
    "#hist(n_pnts)\n",
    "print np.min(n_pnts)\n",
    "print np.max(n_pnts)\n",
    "#How can it differ with 20% ?!\n",
    "\n",
    "#plot(n_pnts)\n",
    "#How does the velodonye protocol work... \n",
    "#Seems to send packates with a certain rotational angle..."
   ]
  },
  {
   "cell_type": "code",
   "execution_count": 35,
   "metadata": {
    "collapsed": false
   },
   "outputs": [
    {
     "name": "stdout",
     "output_type": "stream",
     "text": [
      "n_pnts =  116517\n",
      "1820.578125\n"
     ]
    }
   ],
   "source": [
    "n_pnts = np.size(points,0)\n",
    "print \"n_pnts = \",n_pnts\n",
    "print n_pnts/64.0"
   ]
  },
  {
   "cell_type": "code",
   "execution_count": 67,
   "metadata": {
    "collapsed": false
   },
   "outputs": [
    {
     "name": "stdout",
     "output_type": "stream",
     "text": [
      "34375.0\n",
      "4500.0\n",
      "7.63888888889\n",
      "3437.5\n",
      "220000.0\n"
     ]
    }
   ],
   "source": [
    "#back of the envelope stuff...\n",
    "az_res = 0.08\n",
    "pts_s  = 2.2*10**6\n",
    "pts_s_c = pts_s/64\n",
    "pts_rev_c = 360/0.08\n",
    "\n",
    "print pts_s_c\n",
    "print pts_rev_c\n",
    "rev_s = pts_s_c/pts_rev_c\n",
    "print rev_s\n",
    "\n",
    "#BUT in kitty 10 rev_s -> so lower angular resolution...\n",
    "pts_kitty_c_rev = 2.2*10**6/64/10\n",
    "print pts_kitty_c_rev\n",
    "print pts_kitty_c_rev*64 \n",
    "#this is about 2x the number of points we actually have in the dataset per frame..."
   ]
  },
  {
   "cell_type": "code",
   "execution_count": null,
   "metadata": {
    "collapsed": true
   },
   "outputs": [],
   "source": []
  },
  {
   "cell_type": "code",
   "execution_count": 140,
   "metadata": {
    "collapsed": false
   },
   "outputs": [
    {
     "name": "stdout",
     "output_type": "stream",
     "text": [
      "(116517, 4)\n"
     ]
    }
   ],
   "source": [
    "#points are x,y,z,I\n",
    "from mpl_toolkits.mplot3d import Axes3D\n",
    "\n",
    "fig = figure()\n",
    "#ax3d = fig.add_subplot(111, projection='3d',aspect='equal')\n",
    "ax2d = fig.add_subplot(111, aspect='equal')\n",
    "\n",
    "print np.shape(points)\n",
    "#Too heavy to plot all of them...\n",
    "#Let's subsample\n",
    "#ax.scatter(points[::100,0],points[::100,1],points[::100,2])\n",
    "ax2d.set_xlabel('x')\n",
    "ax2d.set_ylabel('y')\n",
    "#ax.set_zlabel('z')\n",
    "\n",
    "\n",
    "#Let's plot the first 2000 pnts..\n",
    "#ax.scatter(points[:2000,0],points[:2000,1],points[:2000,2],c='y')\n",
    "\n",
    "#last...\n",
    "#N = 1450\n",
    "#angular res 0.08? 0.18?\n",
    "N = 1125#2000\n",
    "colors = ['r','g','b','k','m']\n",
    "\n",
    "#Let's try the other direction..\n",
    "# for i in range(0,3):  \n",
    "#     if i==0:\n",
    "#         ax2d.scatter(points[-N*(i+1):,0],\\\n",
    "#                      points[-N*(i+1):,1],\\\n",
    "#                      c=colors[i%len(colors)],s=5,lw=0)\n",
    "#     else:\n",
    "#         ax2d.scatter(points[-N*(i+1):-N*(i),0],\\\n",
    "#                      points[-N*(i+1):-N*(i),1],\\\n",
    "#                      c=colors[i%len(colors)],s=5,lw=0)\n",
    "\n",
    "N=1235\n",
    "for i in range(10,15):  \n",
    "    if i==0:\n",
    "        ax2d.scatter(points[:N,0],\\\n",
    "                     points[:N,1],\\\n",
    "                     c=colors[i%len(colors)],s=5,lw=0)\n",
    "    else:\n",
    "        ax2d.scatter(points[N*i:N*(i+1),0],\\\n",
    "                     points[N*i:N*(i+1),1],\\\n",
    "                     c=colors[i%len(colors)],s=5,lw=0)\n",
    "\n",
    "    \n",
    "#ax2d.set_xlim(-10,10)\n",
    "#ax2d.set_ylim(-10,10)\n",
    "\n",
    "# ax2d.scatter(points[-2*N:-N,0],points[-2*N:-N,1],\\\n",
    "#              c='b',s=5,lw=0)\n",
    "# ax2d.scatter(points[-3*N:-2*N,0],points[-3*N:-2*N,1],\\\n",
    "#              c='r',s=5,lw=0)"
   ]
  },
  {
   "cell_type": "code",
   "execution_count": 130,
   "metadata": {
    "collapsed": false
   },
   "outputs": [
    {
     "data": {
      "text/plain": [
       "3375"
      ]
     },
     "execution_count": 130,
     "metadata": {},
     "output_type": "execute_result"
    }
   ],
   "source": [
    "1125*3"
   ]
  },
  {
   "cell_type": "code",
   "execution_count": 242,
   "metadata": {
    "collapsed": false
   },
   "outputs": [
    {
     "name": "stdout",
     "output_type": "stream",
     "text": [
      "(126177, 4)\n"
     ]
    },
    {
     "data": {
      "text/plain": [
       "(-10, 10)"
      ]
     },
     "execution_count": 242,
     "metadata": {},
     "output_type": "execute_result"
    }
   ],
   "source": [
    "fig = figure()\n",
    "#ax3d = fig.add_subplot(111, projection='3d',aspect='equal')\n",
    "ax2d = fig.add_subplot(111, aspect='equal')\n",
    "\n",
    "print np.shape(points)\n",
    "\n",
    "ax2d.set_xlabel('x')\n",
    "ax2d.set_ylabel('y')\n",
    "\n",
    "\n",
    "N = 1125\n",
    "colors = ['r','g','b','k','m','y']\n",
    "\n",
    "#FOR '/media/erik/3tb/KITTY_DATA/3d_object_data/training/velodyne/006001.bin'\n",
    "\n",
    "#Idea here is to manually try to set the correct number of\n",
    "#points to see if there is a fixed number before the last\n",
    "#circle, for which only a portion of the data might be captured...\n",
    "ax2d.scatter(points[-1125:,0],\\\n",
    "             points[-1125:,1],\\\n",
    "             c=colors[0%len(colors)],s=5,lw=0)\n",
    "\n",
    "ax2d.scatter(points[-2360:-1125,0],\\\n",
    "             points[-2360:-1125,1],\\\n",
    "             c=colors[1%len(colors)],s=5,lw=0)\n",
    "\n",
    "ax2d.scatter(points[-3630:-2360,0],\\\n",
    "             points[-3630:-2360,1],\\\n",
    "             c=colors[2%len(colors)],s=5,lw=0)\n",
    "\n",
    "ax2d.scatter(points[-4975:-3630,0],\\\n",
    "             points[-4975:-3630,1],\\\n",
    "             c=colors[3%len(colors)],s=5,lw=0)\n",
    "\n",
    "ax2d.scatter(points[-6420:-4975,0],\\\n",
    "             points[-6420:-4975,1],\\\n",
    "             c=colors[4%len(colors)],s=5,lw=0)\n",
    "\n",
    "ax2d.scatter(points[-6420-1440:-6420,0],\\\n",
    "             points[-6420-1440:-6420,1],\\\n",
    "             c=colors[5%len(colors)],s=5,lw=0)\n",
    "\n",
    "ax2d.scatter(points[-7860-1505:-7860,0],\\\n",
    "             points[-7860-1505:-7860,1],\\\n",
    "             c=colors[6%len(colors)],s=5,lw=0)\n",
    "\n",
    "ax2d.scatter(points[-9365-1665:-9365,0],\\\n",
    "             points[-9365-1665:-9365,1],\\\n",
    "             c=colors[7%len(colors)],s=5,lw=0)\n",
    "\n",
    "ax2d.scatter(points[-11030-1717:-11030,0],\\\n",
    "             points[-11030-1717:-11030,1],\\\n",
    "             c=colors[8%len(colors)],s=5,lw=0)\n",
    "\n",
    "ax2d.scatter(points[-12747-1752:-12747,0],\\\n",
    "             points[-12747-1752:-12747,1],\\\n",
    "             c=colors[9%len(colors)],s=5,lw=0)\n",
    "\n",
    "ax2d.scatter(points[-14499-1756:-14499,0],\\\n",
    "             points[-14499-1756:-14499,1],\\\n",
    "             c=colors[10%len(colors)],s=5,lw=0)\n",
    "\n",
    "ax2d.scatter(points[-16255-1817:-16255,0],\\\n",
    "             points[-16255-1817:-16255,1],\\\n",
    "             c=colors[11%len(colors)],s=5,lw=0)\n",
    "\n",
    "ax2d.scatter(points[-18071-1973:-18072,0],\\\n",
    "             points[-18071-1973:-18072,1],\\\n",
    "             c=colors[12%len(colors)],s=5,lw=0)\n",
    "\n",
    "ax2d.scatter(points[-20044-1976:-20044,0],\\\n",
    "             points[-20044-1976:-20044,1],\\\n",
    "             c=colors[13%len(colors)],s=5,lw=0)\n",
    "    \n",
    "ax2d.set_xlim(-10,10)\n",
    "ax2d.set_ylim(-10,10)"
   ]
  },
  {
   "cell_type": "code",
   "execution_count": 227,
   "metadata": {
    "collapsed": false
   },
   "outputs": [
    {
     "data": {
      "text/plain": [
       "1976"
      ]
     },
     "execution_count": 227,
     "metadata": {},
     "output_type": "execute_result"
    }
   ],
   "source": [
    "2000-24"
   ]
  },
  {
   "cell_type": "code",
   "execution_count": 233,
   "metadata": {
    "collapsed": false
   },
   "outputs": [
    {
     "data": {
      "text/plain": [
       "128000"
      ]
     },
     "execution_count": 233,
     "metadata": {},
     "output_type": "execute_result"
    }
   ],
   "source": [
    "#Okay, what I think: there should be 0.18 deg -> 2000 pnts for each\n",
    "#\"ring\" BUT in the dataset, all points that are \"bad\" somehow are\n",
    "#filtered out..\n",
    "# 2000*64 = 128000 \n",
    "#max number of pnts in 1400 frames: 128398\n",
    "\n",
    "#maybe...\n",
    "#In [5]: 2000*64+7*64\n",
    "#Out[5]: 128448\n",
    "\n"
   ]
  },
  {
   "cell_type": "code",
   "execution_count": 90,
   "metadata": {
    "collapsed": false
   },
   "outputs": [
    {
     "name": "stdout",
     "output_type": "stream",
     "text": [
      "[3.777 3.789]\n",
      "[3.746 3.769]\n"
     ]
    }
   ],
   "source": [
    "print points[-2:,0]\n",
    "print points[-4:-2,0]"
   ]
  },
  {
   "cell_type": "code",
   "execution_count": 113,
   "metadata": {
    "collapsed": false,
    "scrolled": true
   },
   "outputs": [],
   "source": [
    "#last two points seem to be from the inner ring...\n",
    "#what is the angular resolution...\n",
    "fig = figure()\n",
    "ax2d = fig.add_subplot(111, aspect='equal')\n",
    "\n",
    "N=1000\n",
    "i=0\n",
    "ax2d.scatter(points[-100:-1,0],\\\n",
    "             points[-100:-1,1],\\\n",
    "             c=colors[i%len(colors)],s=5,lw=0)\n",
    "\n",
    "ax2d.scatter(points[-2:,0],\\\n",
    "             points[-2:,1],\\\n",
    "             c=colors[1%len(colors)],s=5,lw=0)\n",
    "\n",
    "ax2d.set_xlim(-10,10)\n",
    "ax2d.set_ylim(-10,10)    \n",
    "\n",
    "#What is the angle between these points...\n",
    "\n",
    "th_vals = []\n",
    "for i in range(1,400):\n",
    "    #plot([0,points[-i,0]],[0,points[-i,1]],'b')\n",
    "    #plot([0,points[-(i+1),0]],[0,points[-(i+1),1]],'b')\n",
    "    #projection\n",
    "    # |a|cos(th) = a dot b/|b|\n",
    "    # cos(th) = (a dot b)/|b||a|\n",
    "    a_norm = np.linalg.norm(points[-i,:2])\n",
    "    b_norm = np.linalg.norm(points[-(i+1),:2])\n",
    "    cos_th = np.dot(points[-i,:2],points[-(i+1),:2])/(a_norm*b_norm)\n",
    "    th = np.arccos(cos_th)\n",
    "    #print \"th_\",i,\" = \",th*180/np.pi,\" deg\"\n",
    "    th_vals.append(th)"
   ]
  },
  {
   "cell_type": "code",
   "execution_count": 118,
   "metadata": {
    "collapsed": false
   },
   "outputs": [
    {
     "name": "stdout",
     "output_type": "stream",
     "text": [
      "raw_mean =  0.21432788103977546\n",
      "0.1797438718478638\n",
      "0.15701751128213062\n",
      "0.1997919444853057\n",
      "332\n",
      "2000.0\n",
      "1682.24299065\n"
     ]
    }
   ],
   "source": [
    "th_vals_filtered = np.array(th_vals)\n",
    "th_vals_filtered = th_vals_filtered[th_vals_filtered<0.2*np.pi/180]\n",
    "th_vals_filtered = th_vals_filtered[th_vals_filtered>0.15*np.pi/180]\n",
    "print \"raw_mean = \",np.mean(th_vals)*180/np.pi\n",
    "print np.mean(th_vals_filtered)*180/np.pi\n",
    "print np.min(th_vals_filtered)*180/np.pi\n",
    "print np.max(th_vals_filtered)*180/np.pi\n",
    "print np.size(th_vals_filtered)\n",
    "#Let's say it's 0.18 deg\n",
    "print 360/0.18\n",
    "print 360/0.214"
   ]
  },
  {
   "cell_type": "code",
   "execution_count": 41,
   "metadata": {
    "collapsed": false
   },
   "outputs": [
    {
     "name": "stdout",
     "output_type": "stream",
     "text": [
      "\n"
     ]
    }
   ],
   "source": [
    "#histogram of ranges...\n",
    "d3 = sqrt(points[:,0]**2+points[:,1]**2+points[:,2]**2)\n",
    "d2 = sqrt(points[:,0]**2+points[:,1]**2)\n",
    "\n",
    "hist(d2,bins=500)\n",
    "print \"\""
   ]
  },
  {
   "cell_type": "code",
   "execution_count": 29,
   "metadata": {
    "collapsed": false
   },
   "outputs": [
    {
     "name": "stdout",
     "output_type": "stream",
     "text": [
      "(122979, 4)\n",
      "-79.026 79.781\n",
      "-37.606 59.152\n",
      "-23.619 2.904\n"
     ]
    },
    {
     "data": {
      "text/plain": [
       "<matplotlib.text.Text at 0x7fa367492d10>"
      ]
     },
     "execution_count": 29,
     "metadata": {},
     "output_type": "execute_result"
    }
   ],
   "source": [
    "print np.shape(points)\n",
    "\n",
    "print np.min(points[:,0]),np.max(points[:,0])\n",
    "print np.min(points[:,1]),np.max(points[:,1])\n",
    "print np.min(points[:,2]),np.max(points[:,2])\n",
    "\n",
    "#Points are in velodyne frame of reference...\n",
    "#velodyne is at height 1.73 m\n",
    "\n",
    "#Points straight ahead (y ~ 0)\n",
    "pnts_ahead = points[np.abs(points[:,1])<0.1,:]\n",
    "\n",
    "\n",
    "fig = figure()\n",
    "ax = fig.add_subplot(111, projection='3d')\n",
    "ax.scatter(pnts_ahead[::1,0],pnts_ahead[::1,1],pnts_ahead[::1,2])\n",
    "ax.set_xlabel('x')\n",
    "ax.set_ylabel('y')\n",
    "ax.set_zlabel('z')"
   ]
  }
 ],
 "metadata": {
  "kernelspec": {
   "display_name": "Python 2",
   "language": "python",
   "name": "python2"
  },
  "language_info": {
   "codemirror_mode": {
    "name": "ipython",
    "version": 2
   },
   "file_extension": ".py",
   "mimetype": "text/x-python",
   "name": "python",
   "nbconvert_exporter": "python",
   "pygments_lexer": "ipython2",
   "version": "2.7.12"
  }
 },
 "nbformat": 4,
 "nbformat_minor": 0
}
