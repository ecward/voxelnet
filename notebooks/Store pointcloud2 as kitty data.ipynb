{
 "cells": [
  {
   "cell_type": "code",
   "execution_count": 1,
   "metadata": {
    "collapsed": false,
    "deletable": true,
    "editable": true
   },
   "outputs": [
    {
     "name": "stdout",
     "output_type": "stream",
     "text": [
      "Using matplotlib backend: Qt4Agg\n",
      "Populating the interactive namespace from numpy and matplotlib\n"
     ]
    }
   ],
   "source": [
    "%pylab"
   ]
  },
  {
   "cell_type": "code",
   "execution_count": null,
   "metadata": {
    "collapsed": false,
    "deletable": true,
    "editable": true
   },
   "outputs": [],
   "source": [
    "#How to store lidar data...\n",
    "#load it\n",
    "f_lidar = '../data/object/validation/velodyne/000001.bin'\n",
    "points = np.fromfile(f_lidar,dtype=np.float32)\n",
    "print np.shape(points)\n",
    "point_per_row = points.reshape((-1,4))\n",
    "print np.shape(point_per_row)\n",
    "print np.shape(point_per_row.flatten())"
   ]
  },
  {
   "cell_type": "code",
   "execution_count": null,
   "metadata": {
    "collapsed": true,
    "deletable": true,
    "editable": true
   },
   "outputs": [],
   "source": [
    "#how to store it\n",
    "tmp_f = 'pointcloud.bin'\n",
    "point_per_row.flatten().tofile(tmp_f)"
   ]
  },
  {
   "cell_type": "code",
   "execution_count": null,
   "metadata": {
    "collapsed": true,
    "deletable": true,
    "editable": true
   },
   "outputs": [],
   "source": []
  },
  {
   "cell_type": "code",
   "execution_count": 2,
   "metadata": {
    "collapsed": false,
    "deletable": true,
    "editable": true
   },
   "outputs": [],
   "source": [
    "#Get pointcloud from ros system\n",
    "import rospy\n",
    "from sensor_msgs.msg import PointCloud2, PointField\n",
    "import std_msgs.msg\n",
    "import sensor_msgs.point_cloud2 as pcl2\n",
    "import struct\n",
    "\n",
    "pc2_msg      = None\n",
    "sub          = None\n",
    "got_data     = False\n",
    "\n",
    "\n",
    "def callback(msg):\n",
    "    global pc2_msg\n",
    "    global sub\n",
    "    global got_data\n",
    "    \n",
    "    #for point in pcl2.read_points(msg,skip_nans=True):\n",
    "        \n",
    "    pc2_msg = msg\n",
    "    got_data = True\n",
    "    sub.unregister()\n",
    "    rospy.signal_shutdown('done')\n",
    "    \n",
    "rospy.init_node('pc_listen',anonymous=True)\n",
    "sub = rospy.Subscriber('/velodyne_points_right',PointCloud2,callback)\n",
    "rospy.spin()\n",
    "\n",
    "    \n"
   ]
  },
  {
   "cell_type": "code",
   "execution_count": null,
   "metadata": {
    "collapsed": false,
    "deletable": true,
    "editable": true
   },
   "outputs": [],
   "source": [
    "print got_data\n",
    "print type(pc2_msg)"
   ]
  },
  {
   "cell_type": "code",
   "execution_count": 4,
   "metadata": {
    "collapsed": false,
    "deletable": true,
    "editable": true
   },
   "outputs": [],
   "source": [
    "points = []\n",
    "for point in pcl2.read_points(pc2_msg,skip_nans=True):\n",
    "    points.append(point)\n",
    "\n",
    "\n",
    "points_np = np.array(points)"
   ]
  },
  {
   "cell_type": "code",
   "execution_count": null,
   "metadata": {
    "collapsed": false,
    "deletable": true,
    "editable": true
   },
   "outputs": [],
   "source": [
    "plot(points_np[:,0],points_np[:,1],'.')\n",
    "#we should transform the points to sensor_board_link"
   ]
  },
  {
   "cell_type": "code",
   "execution_count": 38,
   "metadata": {
    "collapsed": false,
    "deletable": true,
    "editable": true
   },
   "outputs": [
    {
     "name": "stdout",
     "output_type": "stream",
     "text": [
      "[[-1.99156132e-04 -9.77821946e-01  2.09437826e-01]\n",
      " [ 9.99999979e-01 -2.03673204e-04  0.00000000e+00]\n",
      " [ 4.26568731e-05  2.09641495e-01  9.77821966e-01]]\n",
      "\n",
      "[[-1.99147637e-04 -9.77780237e-01  2.09632557e-01]\n",
      " [ 9.99999979e-01 -2.03664516e-04  4.05610373e-08]\n",
      " [ 4.26550535e-05  2.09428888e-01  9.77780257e-01]]\n"
     ]
    }
   ],
   "source": [
    "\n",
    "print rot.T\n",
    "\n",
    "print \"\"\n",
    "\n",
    "print np.linalg.inv(rot)"
   ]
  },
  {
   "cell_type": "code",
   "execution_count": 43,
   "metadata": {
    "collapsed": false,
    "deletable": true,
    "editable": true
   },
   "outputs": [
    {
     "name": "stdout",
     "output_type": "stream",
     "text": [
      "(21987, 4)\n"
     ]
    }
   ],
   "source": [
    "#From tf-echo\n",
    "translation = np.array([0.030, 0.426, -0.158])\n",
    "#rot = euler2mat(x=-0.000, y=-0.211, z=-1.571)\n",
    "rot = get_R(0,-0.211,-1.571)get\n",
    "\n",
    "\n",
    "points_sbl = np.dot(points_np[:,:3],np.linalg.inv(rot).T)-translation\n",
    "plot(points_sbl[:,0],points_sbl[:,1],'.')\n",
    "axis('equal')\n",
    "\n",
    "#Fake intensity = 1\n",
    "#and store as flat array\n",
    "points_xyzi = np.ones([np.size(points_sbl,0),4],dtype=np.float32)\n",
    "points_xyzi[:,:3] = points_sbl\n",
    "\n",
    "#In kitty the sensor is about 0.5 higher than this, so let's remove\n",
    "#-0.5 from z\n",
    "points_xyzi[:,2] -= 0.5\n",
    "\n",
    "print np.shape(points_xyzi)\n",
    "#store as flat array\n",
    "tmp_f = '000001.bin'\n",
    "points_xyzi.flatten().tofile(tmp_f)"
   ]
  },
  {
   "cell_type": "code",
   "execution_count": 48,
   "metadata": {
    "collapsed": false,
    "deletable": true,
    "editable": true
   },
   "outputs": [
    {
     "name": "stdout",
     "output_type": "stream",
     "text": [
      "coordinate buffer =  [[  2 147  39]\n",
      " [  2 148  39]\n",
      " [  2 149  39]\n",
      " ...\n",
      " [  9 301 113]\n",
      " [  9 302 113]\n",
      " [  9 310 142]]\n",
      "voxel_index:  (9385, 3) 9385\n",
      "coord buff:  (1888, 3) 1888\n"
     ]
    }
   ],
   "source": [
    "#Let's understand what the hell is going on in process_pointcloud\n",
    "point_cloud = np.copy(points_xyzi)\n",
    "\n",
    "#size z, size y, size x\n",
    "voxel_size = np.array([0.4, 0.2, 0.2], dtype=np.float32)\n",
    "#10 cells in up/down, 400 sideways, 352 forward\n",
    "#corresponding to 4.0 m, 80.0 m sideways, 70.4 m forward\n",
    "grid_size = np.array([10, 400, 352], dtype=np.int64)\n",
    "lidar_coord = np.array([0, 40, 3], dtype=np.float32)\n",
    "max_point_number = 35\n",
    "\n",
    "#We add 40.0 to y so we get points 40 meters to the right at 0.0\n",
    "#We add 3.0  to z so we get points 3 meters below at 0.0\n",
    "shifted_coord = point_cloud[:, :3] + lidar_coord\n",
    "# reverse the point cloud coordinate (X, Y, Z) -> (Z, Y, X)\n",
    "# then get index by dividing with sizes\n",
    "voxel_index = np.floor( shifted_coord[:, ::-1] / voxel_size).astype(np.int)\n",
    "\n",
    "bound_x = np.logical_and(\n",
    "    voxel_index[:, 2] >= 0, voxel_index[:, 2] < grid_size[2])\n",
    "bound_y = np.logical_and(\n",
    "    voxel_index[:, 1] >= 0, voxel_index[:, 1] < grid_size[1])\n",
    "bound_z = np.logical_and(\n",
    "    voxel_index[:, 0] >= 0, voxel_index[:, 0] < grid_size[0])\n",
    "\n",
    "#Get mask for the data\n",
    "bound_box = np.logical_and(np.logical_and(bound_x, bound_y), bound_z)\n",
    "\n",
    "#Only keep points and their indices within bounds\n",
    "point_cloud = point_cloud[bound_box]\n",
    "voxel_index = voxel_index[bound_box]\n",
    "\n",
    "# [K, 3] coordinate buffer as described in the paper\n",
    "#The unique rows, i.e. the voxels where we have data\n",
    "coordinate_buffer = np.unique(voxel_index, axis=0)\n",
    "\n",
    "K = len(coordinate_buffer)\n",
    "T = max_point_number\n",
    "\n",
    "# [K, 1] store number of points in each voxel grid\n",
    "number_buffer = np.zeros(shape=(K), dtype=np.int64)\n",
    "\n",
    "# [K, T, 7] feature buffer as described in the paper\n",
    "feature_buffer = np.zeros(shape=(K, T, 7), dtype=np.float32)\n",
    "\n",
    "# build a reverse index for coordinate buffer\n",
    "index_buffer = {}\n",
    "for i in range(K):\n",
    "    index_buffer[tuple(coordinate_buffer[i])] = i\n",
    "\n",
    "for voxel, point in zip(voxel_index, point_cloud):\n",
    "    index = index_buffer[tuple(voxel)]\n",
    "    number = number_buffer[index]\n",
    "    #add a point to the feature buffer if\n",
    "    #we have less than T points in it (initially the points are zeros)\n",
    "    if number < T:\n",
    "        feature_buffer[index, number, :4] = point\n",
    "        number_buffer[index] += 1\n",
    "\n",
    "#Add difference from the mean to each of the T points\n",
    "#as last three dimensions\n",
    "feature_buffer[:, :, -3:] = feature_buffer[:, :, :3] - \\\n",
    "feature_buffer[:, :, :3].sum(axis=1, keepdims=True)/number_buffer.reshape(K, 1, 1)\n",
    "\n",
    "voxel_dict = {'feature_buffer': feature_buffer,\n",
    "          'coordinate_buffer': coordinate_buffer,\n",
    "          'number_buffer': number_buffer}\n",
    "\n",
    "#Okay, is this really what they said in the paper? YES\n"
   ]
  },
  {
   "cell_type": "code",
   "execution_count": 42,
   "metadata": {
    "collapsed": false,
    "deletable": true,
    "editable": true
   },
   "outputs": [],
   "source": [
    "from mpl_toolkits.mplot3d import Axes3D\n",
    "\n",
    "fig = plt.figure()\n",
    "ax = fig.add_subplot(111, projection='3d')\n",
    "ax.scatter(points_sbl[:,0],points_sbl[:,1],points_sbl[:,2],lw=0)\n",
    "ax.set_aspect('equal')"
   ]
  },
  {
   "cell_type": "code",
   "execution_count": null,
   "metadata": {
    "collapsed": false,
    "deletable": true,
    "editable": true
   },
   "outputs": [],
   "source": [
    "points = np.fromfile(tmp_f,dtype=np.float32)\n",
    "print np.shape(points)\n",
    "point_per_row = points.reshape((-1,4))\n",
    "print np.shape(point_per_row)\n",
    "\n",
    "plot(point_per_row[:,0],point_per_row[:,1],'.')\n",
    "axis('equal')"
   ]
  },
  {
   "cell_type": "code",
   "execution_count": 30,
   "metadata": {
    "collapsed": true,
    "deletable": true,
    "editable": true
   },
   "outputs": [],
   "source": [
    "def get_R(roll,pitch,yaw):\n",
    "    cos_alph = cos(yaw)\n",
    "    sin_alph = sin(yaw)\n",
    "    cos_beta = cos(pitch)\n",
    "    sin_beta = sin(pitch)\n",
    "    cos_gamma = cos(roll)\n",
    "    sin_gamma = sin(roll)\n",
    "    \n",
    "    return np.array(\n",
    "        [[cos_alph*cos_beta, \n",
    "         cos_alph*sin_beta*sin_gamma-sin_alph*cos_gamma,\n",
    "         cos_alph*sin_beta*cos_gamma+sin_alph*sin_gamma],\n",
    "        [sin_alph*cos_beta, \n",
    "         sin_alph*sin_beta*sin_gamma+cos_alph*cos_gamma,\n",
    "        sin_alph*sin_beta*cos_gamma-cos_alph-cos_alph*sin_gamma],\n",
    "        [-sin_beta,cos_beta*sin_gamma,cos_beta*cos_gamma]])\n",
    "\n",
    "    "
   ]
  }
 ],
 "metadata": {
  "kernelspec": {
   "display_name": "Python 2",
   "language": "python",
   "name": "python2"
  },
  "language_info": {
   "codemirror_mode": {
    "name": "ipython",
    "version": 2
   },
   "file_extension": ".py",
   "mimetype": "text/x-python",
   "name": "python",
   "nbconvert_exporter": "python",
   "pygments_lexer": "ipython2",
   "version": "2.7.12"
  }
 },
 "nbformat": 4,
 "nbformat_minor": 0
}
